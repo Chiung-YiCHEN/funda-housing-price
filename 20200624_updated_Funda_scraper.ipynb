{
 "cells": [
  {
   "cell_type": "code",
   "execution_count": 1,
   "metadata": {},
   "outputs": [
    {
     "name": "stdout",
     "output_type": "stream",
     "text": [
      "Collecting selenium\n",
      "  Downloading selenium-3.141.0-py2.py3-none-any.whl (904 kB)\n",
      "Requirement already satisfied: urllib3 in c:\\users\\eekon\\anaconda3\\lib\\site-packages (from selenium) (1.25.8)\n",
      "Installing collected packages: selenium\n",
      "Successfully installed selenium-3.141.0\n",
      "Note: you may need to restart the kernel to use updated packages.\n"
     ]
    }
   ],
   "source": [
    "pip install selenium"
   ]
  },
  {
   "cell_type": "code",
   "execution_count": 13,
   "metadata": {},
   "outputs": [
    {
     "ename": "AttributeError",
     "evalue": "'NoneType' object has no attribute 'is_displayed'",
     "output_type": "error",
     "traceback": [
      "\u001b[1;31m---------------------------------------------------------------------------\u001b[0m",
      "\u001b[1;31mAttributeError\u001b[0m                            Traceback (most recent call last)",
      "\u001b[1;32m<ipython-input-13-c6168f4f2efe>\u001b[0m in \u001b[0;36m<module>\u001b[1;34m\u001b[0m\n\u001b[0;32m     40\u001b[0m         \u001b[0mbrowser\u001b[0m\u001b[1;33m.\u001b[0m\u001b[0mget\u001b[0m\u001b[1;33m(\u001b[0m\u001b[0murl\u001b[0m \u001b[1;33m+\u001b[0m \u001b[0mstr\u001b[0m\u001b[1;33m(\u001b[0m\u001b[0mpage\u001b[0m\u001b[1;33m)\u001b[0m\u001b[1;33m)\u001b[0m\u001b[1;33m\u001b[0m\u001b[1;33m\u001b[0m\u001b[0m\n\u001b[0;32m     41\u001b[0m         \u001b[1;31m# wait for the page to load\u001b[0m\u001b[1;33m\u001b[0m\u001b[1;33m\u001b[0m\u001b[1;33m\u001b[0m\u001b[0m\n\u001b[1;32m---> 42\u001b[1;33m         \u001b[0mwait\u001b[0m\u001b[1;33m.\u001b[0m\u001b[0muntil\u001b[0m\u001b[1;33m(\u001b[0m\u001b[0mEC\u001b[0m\u001b[1;33m.\u001b[0m\u001b[0mvisibility_of_element_located\u001b[0m\u001b[1;33m(\u001b[0m\u001b[1;33m(\u001b[0m\u001b[0mBy\u001b[0m\u001b[1;33m.\u001b[0m\u001b[0mCSS_SELECTOR\u001b[0m\u001b[1;33m,\u001b[0m \u001b[1;34m\"div.search-result-content\"\u001b[0m\u001b[1;33m)\u001b[0m\u001b[1;33m)\u001b[0m\u001b[1;33m)\u001b[0m\u001b[1;33m\u001b[0m\u001b[1;33m\u001b[0m\u001b[0m\n\u001b[0m\u001b[0;32m     43\u001b[0m \u001b[1;33m\u001b[0m\u001b[0m\n\u001b[0;32m     44\u001b[0m         \u001b[1;32mfor\u001b[0m \u001b[0mitem\u001b[0m \u001b[1;32min\u001b[0m \u001b[0mbrowser\u001b[0m\u001b[1;33m.\u001b[0m\u001b[0mfind_elements_by_css_selector\u001b[0m\u001b[1;33m(\u001b[0m\u001b[1;34m\"div.search-result-content\"\u001b[0m\u001b[1;33m)\u001b[0m\u001b[1;33m:\u001b[0m\u001b[1;33m\u001b[0m\u001b[1;33m\u001b[0m\u001b[0m\n",
      "\u001b[1;32m~\\anaconda3\\lib\\site-packages\\selenium\\webdriver\\support\\wait.py\u001b[0m in \u001b[0;36muntil\u001b[1;34m(self, method, message)\u001b[0m\n\u001b[0;32m     69\u001b[0m         \u001b[1;32mwhile\u001b[0m \u001b[1;32mTrue\u001b[0m\u001b[1;33m:\u001b[0m\u001b[1;33m\u001b[0m\u001b[1;33m\u001b[0m\u001b[0m\n\u001b[0;32m     70\u001b[0m             \u001b[1;32mtry\u001b[0m\u001b[1;33m:\u001b[0m\u001b[1;33m\u001b[0m\u001b[1;33m\u001b[0m\u001b[0m\n\u001b[1;32m---> 71\u001b[1;33m                 \u001b[0mvalue\u001b[0m \u001b[1;33m=\u001b[0m \u001b[0mmethod\u001b[0m\u001b[1;33m(\u001b[0m\u001b[0mself\u001b[0m\u001b[1;33m.\u001b[0m\u001b[0m_driver\u001b[0m\u001b[1;33m)\u001b[0m\u001b[1;33m\u001b[0m\u001b[1;33m\u001b[0m\u001b[0m\n\u001b[0m\u001b[0;32m     72\u001b[0m                 \u001b[1;32mif\u001b[0m \u001b[0mvalue\u001b[0m\u001b[1;33m:\u001b[0m\u001b[1;33m\u001b[0m\u001b[1;33m\u001b[0m\u001b[0m\n\u001b[0;32m     73\u001b[0m                     \u001b[1;32mreturn\u001b[0m \u001b[0mvalue\u001b[0m\u001b[1;33m\u001b[0m\u001b[1;33m\u001b[0m\u001b[0m\n",
      "\u001b[1;32m~\\anaconda3\\lib\\site-packages\\selenium\\webdriver\\support\\expected_conditions.py\u001b[0m in \u001b[0;36m__call__\u001b[1;34m(self, driver)\u001b[0m\n\u001b[0;32m    126\u001b[0m     \u001b[1;32mdef\u001b[0m \u001b[0m__call__\u001b[0m\u001b[1;33m(\u001b[0m\u001b[0mself\u001b[0m\u001b[1;33m,\u001b[0m \u001b[0mdriver\u001b[0m\u001b[1;33m)\u001b[0m\u001b[1;33m:\u001b[0m\u001b[1;33m\u001b[0m\u001b[1;33m\u001b[0m\u001b[0m\n\u001b[0;32m    127\u001b[0m         \u001b[1;32mtry\u001b[0m\u001b[1;33m:\u001b[0m\u001b[1;33m\u001b[0m\u001b[1;33m\u001b[0m\u001b[0m\n\u001b[1;32m--> 128\u001b[1;33m             \u001b[1;32mreturn\u001b[0m \u001b[0m_element_if_visible\u001b[0m\u001b[1;33m(\u001b[0m\u001b[0m_find_element\u001b[0m\u001b[1;33m(\u001b[0m\u001b[0mdriver\u001b[0m\u001b[1;33m,\u001b[0m \u001b[0mself\u001b[0m\u001b[1;33m.\u001b[0m\u001b[0mlocator\u001b[0m\u001b[1;33m)\u001b[0m\u001b[1;33m)\u001b[0m\u001b[1;33m\u001b[0m\u001b[1;33m\u001b[0m\u001b[0m\n\u001b[0m\u001b[0;32m    129\u001b[0m         \u001b[1;32mexcept\u001b[0m \u001b[0mStaleElementReferenceException\u001b[0m\u001b[1;33m:\u001b[0m\u001b[1;33m\u001b[0m\u001b[1;33m\u001b[0m\u001b[0m\n\u001b[0;32m    130\u001b[0m             \u001b[1;32mreturn\u001b[0m \u001b[1;32mFalse\u001b[0m\u001b[1;33m\u001b[0m\u001b[1;33m\u001b[0m\u001b[0m\n",
      "\u001b[1;32m~\\anaconda3\\lib\\site-packages\\selenium\\webdriver\\support\\expected_conditions.py\u001b[0m in \u001b[0;36m_element_if_visible\u001b[1;34m(element, visibility)\u001b[0m\n\u001b[0;32m    146\u001b[0m \u001b[1;33m\u001b[0m\u001b[0m\n\u001b[0;32m    147\u001b[0m \u001b[1;32mdef\u001b[0m \u001b[0m_element_if_visible\u001b[0m\u001b[1;33m(\u001b[0m\u001b[0melement\u001b[0m\u001b[1;33m,\u001b[0m \u001b[0mvisibility\u001b[0m\u001b[1;33m=\u001b[0m\u001b[1;32mTrue\u001b[0m\u001b[1;33m)\u001b[0m\u001b[1;33m:\u001b[0m\u001b[1;33m\u001b[0m\u001b[1;33m\u001b[0m\u001b[0m\n\u001b[1;32m--> 148\u001b[1;33m     \u001b[1;32mreturn\u001b[0m \u001b[0melement\u001b[0m \u001b[1;32mif\u001b[0m \u001b[0melement\u001b[0m\u001b[1;33m.\u001b[0m\u001b[0mis_displayed\u001b[0m\u001b[1;33m(\u001b[0m\u001b[1;33m)\u001b[0m \u001b[1;33m==\u001b[0m \u001b[0mvisibility\u001b[0m \u001b[1;32melse\u001b[0m \u001b[1;32mFalse\u001b[0m\u001b[1;33m\u001b[0m\u001b[1;33m\u001b[0m\u001b[0m\n\u001b[0m\u001b[0;32m    149\u001b[0m \u001b[1;33m\u001b[0m\u001b[0m\n\u001b[0;32m    150\u001b[0m \u001b[1;33m\u001b[0m\u001b[0m\n",
      "\u001b[1;31mAttributeError\u001b[0m: 'NoneType' object has no attribute 'is_displayed'"
     ]
    }
   ],
   "source": [
    "from selenium import webdriver\n",
    "from selenium.webdriver.common.by import By\n",
    "from selenium.webdriver.support.ui import WebDriverWait\n",
    "from selenium.webdriver.support import expected_conditions as EC\n",
    "\n",
    "import pandas as pd\n",
    "import time\n",
    "from random import randint\n",
    "\n",
    "\n",
    "# start your browser\n",
    "\n",
    "browser = webdriver.Chrome('./chromedriver')\n",
    "\n",
    "\n",
    "browser.implicitly_wait(15)\n",
    "wait = WebDriverWait(browser, 30)\n",
    "\n",
    "# enter the URL you would like to scrape\n",
    "\n",
    "urls = [\n",
    "        #'file:///Users/chenchiungyi/Documents/Koopwoningen%20Amsterdam%20-%20Huizen%20te%20koop%20in%20Amsterdam%20[funda].htm',\n",
    "    \n",
    "        'http://www.funda.nl/koop/amsterdam/p'\n",
    "    ]\n",
    "\n",
    "\n",
    "data1 = []\n",
    "data2 = []\n",
    "\n",
    "\n",
    "# enter the pagerange you would like to scrape\n",
    "\n",
    "pagerange = range(1, 2)\n",
    "\n",
    "# start scraping\n",
    "\n",
    "for url in urls:\n",
    "    for page in pagerange:\n",
    "        browser.get(url + str(page))\n",
    "        # wait for the page to load\n",
    "        wait.until(EC.visibility_of_element_located((By.CSS_SELECTOR, \"div.search-result-content\")))\n",
    "\n",
    "        for item in browser.find_elements_by_css_selector(\"div.search-result-content\"):\n",
    "\n",
    "\n",
    "            try:\n",
    "                zipcode1, zipcode2, city = item.find_element_by_css_selector(\"h4.search-result__header-subtitle\").text.split(\" \", 2)\n",
    "                zipcode = zipcode1 + \" \" + zipcode2\n",
    "\n",
    "                street_zipcode_city = city\n",
    "                #item.find_element_by_css_selector(\"h3.search-result-title\").text\n",
    "\n",
    "                price = item.find_element_by_css_selector(\"span.search-result-price\").text.lstrip('€ ').rstrip(\n",
    "                    ' k.k,').replace('.', '')\n",
    "\n",
    "                surface, rooms = item.find_element_by_css_selector(\"ul.search-result-kenmerken\").text.replace('\\n', '').replace('m²', '').split(\" \", 1)\n",
    "                rooms = rooms.replace('kamer', '').replace('s', '')\n",
    "\n",
    "                link = item.find_element_by_css_selector(\"div.search-result__header-title-col>a\").get_attribute('href')\n",
    "\n",
    "                data1.append({\n",
    "                    \"street_zipcode_city\": street_zipcode_city,\n",
    "                    \"zipcode\": zipcode,\n",
    "                    \"city\": city,\n",
    "                    \"price\": price,\n",
    "                    \"surface\": surface,\n",
    "                    \"rooms\": rooms,\n",
    "                    \"link\": link,\n",
    "                })\n",
    "\n",
    "            except ValueError:\n",
    "                pass\n",
    "\n",
    "        time.sleep(randint(10, 15))\n",
    "\n",
    "for j in range(len(data1)-7):\n",
    "    \n",
    "    browser.get(data1[j]['link'])\n",
    "    all_data = []\n",
    "    for item in browser.find_elements_by_css_selector(\"dl.object-kenmerken-list\"):\n",
    "\n",
    "\n",
    "        try:\n",
    "            temp_text = item.text.split()\n",
    "            all_data.append(temp_text)\n",
    "    \n",
    "        except ValueError:\n",
    "            pass\n",
    "    \n",
    "    \n",
    "    \n",
    "    if 'VvE' in all_data[0]:\n",
    "        vve = all_data[0].index('VvE')\n",
    "        vv_in = all_data[0][vve+1]\n",
    "    else:\n",
    "        vve_in = 0\n",
    "    \n",
    "    const_index = all_data[1].index('Bouwjaar')\n",
    "    inh_index = all_data[2].index('Inhoud')\n",
    "    \n",
    "    if 'Aantal' in all_data[3]:\n",
    "        aan_in = all_data[3].index('Aantal')\n",
    "    \n",
    "    if 'Gelgen' in all_data[3]:\n",
    "        gel = all_data[3].index('Gelegen')\n",
    "        gel_in = all_data[3][gel+2]\n",
    "    else:\n",
    "        gel_in = 'na'\n",
    "    \n",
    "    \n",
    "    \n",
    "    #organize data\n",
    "    data2.append({\n",
    "    \"per_m2\": all_data[0][10],\n",
    "    \"VvE\": vve_in,\n",
    "    \"Type\": all_data[1][1],\n",
    "    \"Const_yaer\": all_data[1][const_index],\n",
    "    \"Volume\": all_data[2][-2],\n",
    "    \"bedrooms\": all_data[3][4],\n",
    "    \"located\": all_data[3][aan_in+2],\n",
    "    \"floors\": gel_in,\n",
    "    \"energy_lab\": all_data[4][1]\n",
    "                    \n",
    "            })\n",
    "\n",
    "    time.sleep(randint(10, 15))\n",
    "\n",
    "        \n",
    "browser.close()\n",
    "df1 = pd.DataFrame(data1)\n",
    "df2 = pd.DataFrame(data2)\n",
    "mergedDf = df1.merge(df2, left_index=True, right_index=True)\n",
    "mergedDf.to_csv(\"AmsterdamPage\"+str(min(pagerange))+\"to\"+str(max(pagerange))+\".csv\", sep=';', encoding='utf-8')\n",
    "print(mergedDf)\n"
   ]
  },
  {
   "cell_type": "code",
   "execution_count": 12,
   "metadata": {},
   "outputs": [
    {
     "name": "stdout",
     "output_type": "stream",
     "text": [
      "[{'street_zipcode_city': 'Amsterdam', 'zipcode': '1065 AG', 'city': 'Amsterdam', 'price': '500000', 'surface': '146', 'rooms': ' / 102 6 ', 'link': 'https://www.funda.nl/koop/amsterdam/huis-41992114-pieter-borstraat-33/?navigateSource=resultlist'}, {'street_zipcode_city': 'Amsterdam', 'zipcode': '1060 PL', 'city': 'Amsterdam', 'price': '450000', 'surface': '125', 'rooms': ' / 98 5 ', 'link': 'https://www.funda.nl/koop/amsterdam/huis-41992009-lomondlaan-70/?navigateSource=resultlist'}, {'street_zipcode_city': 'Amsterdam', 'zipcode': '1086 VB', 'city': 'Amsterdam', 'price': '695000', 'surface': '148', 'rooms': ' / 149 6 ', 'link': 'https://www.funda.nl/koop/amsterdam/huis-41990728-brigantijnkade-40/?navigateSource=resultlist'}, {'street_zipcode_city': 'Amsterdam', 'zipcode': '1024 VL', 'city': 'Amsterdam', 'price': '535000', 'surface': '133', 'rooms': ' / 113 5 ', 'link': 'https://www.funda.nl/koop/amsterdam/huis-41990547-duinlustpad-7/?navigateSource=resultlist'}, {'street_zipcode_city': 'Amsterdam', 'zipcode': '1087 SG', 'city': 'Amsterdam', 'price': '1250000', 'surface': '223', 'rooms': ' / 315 6 ', 'link': 'https://www.funda.nl/koop/amsterdam/huis-87352656-zwenkgrasstraat-3/?navigateSource=resultlist'}, {'street_zipcode_city': 'Amsterdam', 'zipcode': '1066 GS', 'city': 'Amsterdam', 'price': '550000', 'surface': '132', 'rooms': ' / 91 5 ', 'link': 'https://www.funda.nl/koop/amsterdam/huis-41997066-boy-edgarstraat-10/?navigateSource=resultlist'}, {'street_zipcode_city': 'Amsterdam', 'zipcode': '1109 BN', 'city': 'Amsterdam', 'price': '895000', 'surface': '142', 'rooms': ' / 4.985 4 ', 'link': 'https://www.funda.nl/koop/amsterdam/huis-41995555-lange-stammerdijk-16/?navigateSource=resultlist'}, {'street_zipcode_city': 'Amsterdam', 'zipcode': '1087 MP', 'city': 'Amsterdam', 'price': '1050000', 'surface': '202', 'rooms': ' / 136 7 ', 'link': 'https://www.funda.nl/koop/amsterdam/huis-41995427-jan-vrijmanstraat-212/?navigateSource=resultlist'}, {'street_zipcode_city': 'Amsterdam', 'zipcode': '1035 SC', 'city': 'Amsterdam', 'price': '585000', 'surface': '134', 'rooms': ' / 264 5 ', 'link': 'https://www.funda.nl/koop/amsterdam/huis-41962411-nathan-f-israelweg-6/?navigateSource=resultlist'}, {'street_zipcode_city': 'Amsterdam', 'zipcode': '1066 NT', 'city': 'Amsterdam', 'price': '439000', 'surface': '110', 'rooms': ' / 90 4 ', 'link': 'https://www.funda.nl/koop/amsterdam/huis-41961201-turnhoutplantsoen-8/?navigateSource=resultlist'}, {'street_zipcode_city': 'Amsterdam', 'zipcode': '1025 RK', 'city': 'Amsterdam', 'price': '400000', 'surface': '83', 'rooms': ' / 83 4 ', 'link': 'https://www.funda.nl/koop/amsterdam/huis-41961093-amelandstraat-6/?navigateSource=resultlist'}, {'street_zipcode_city': 'Amsterdam', 'zipcode': '1017 JA', 'city': 'Amsterdam', 'price': '800000', 'surface': '93', 'rooms': ' / 28 5 ', 'link': 'https://www.funda.nl/koop/amsterdam/huis-87323545-kerkstraat-338/?navigateSource=resultlist'}]\n"
     ]
    }
   ],
   "source": [
    "print(data1)"
   ]
  },
  {
   "cell_type": "code",
   "execution_count": null,
   "metadata": {},
   "outputs": [],
   "source": []
  }
 ],
 "metadata": {
  "kernelspec": {
   "display_name": "Python 3",
   "language": "python",
   "name": "python3"
  },
  "language_info": {
   "codemirror_mode": {
    "name": "ipython",
    "version": 3
   },
   "file_extension": ".py",
   "mimetype": "text/x-python",
   "name": "python",
   "nbconvert_exporter": "python",
   "pygments_lexer": "ipython3",
   "version": "3.7.6"
  }
 },
 "nbformat": 4,
 "nbformat_minor": 4
}
