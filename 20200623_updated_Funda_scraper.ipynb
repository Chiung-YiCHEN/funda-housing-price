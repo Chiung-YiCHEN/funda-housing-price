{
 "cells": [
  {
   "cell_type": "code",
   "execution_count": 39,
   "metadata": {},
   "outputs": [
    {
     "name": "stdout",
     "output_type": "stream",
     "text": [
      "   street_zipcode_city  zipcode       city    price surface rooms  \\\n",
      "0            Amsterdam  1079 NB  Amsterdam   685000     110    5    \n",
      "1            Amsterdam  1055 AB  Amsterdam   500000      95    4    \n",
      "2            Amsterdam  1078 PH  Amsterdam  1050000     146    4    \n",
      "3            Amsterdam  1058 GP  Amsterdam   695000     114    3    \n",
      "4            Amsterdam  1068 SL  Amsterdam   350000      91    4    \n",
      "5            Amsterdam  1072 HS  Amsterdam   350000      42    2    \n",
      "6            Amsterdam  1069 SR  Amsterdam   400000     100    4    \n",
      "7            Amsterdam  1076 DS  Amsterdam   650000     101    3    \n",
      "8            Amsterdam  1073 BK  Amsterdam   495000      69    3    \n",
      "9            Amsterdam  1011 VK  Amsterdam   650000      77    3    \n",
      "10           Amsterdam  1054 XA  Amsterdam   260000      28    2    \n",
      "11           Amsterdam  1013 TL  Amsterdam   575000     100    4    \n",
      "\n",
      "                                                 link  \n",
      "0   file:///koop/amsterdam/appartement-41829401-pr...  \n",
      "1   file:///koop/amsterdam/appartement-41828532-ho...  \n",
      "2   file:///koop/amsterdam/appartement-41814371-vi...  \n",
      "3   file:///koop/amsterdam/appartement-41812916-su...  \n",
      "4   file:///koop/amsterdam/appartement-87276105-wi...  \n",
      "5   file:///koop/amsterdam/appartement-41811351-du...  \n",
      "6   file:///koop/amsterdam/appartement-87274393-do...  \n",
      "7   file:///koop/amsterdam/appartement-41810534-rh...  \n",
      "8   file:///koop/amsterdam/appartement-41819217-al...  \n",
      "9   file:///koop/amsterdam/appartement-41818907-ra...  \n",
      "10  file:///koop/amsterdam/appartement-41816119-ka...  \n",
      "11  file:///koop/amsterdam/appartement-41801647-kn...  \n"
     ]
    }
   ],
   "source": [
    "from selenium import webdriver\n",
    "from selenium.webdriver.common.by import By\n",
    "from selenium.webdriver.support.ui import WebDriverWait\n",
    "from selenium.webdriver.support import expected_conditions as EC\n",
    "\n",
    "import pandas as pd\n",
    "import time\n",
    "from random import randint\n",
    "\n",
    "# start your browser\n",
    "\n",
    "browser = webdriver.Chrome('./chromedriver')\n",
    "\n",
    "browser.implicitly_wait(15)\n",
    "wait = WebDriverWait(browser, 30)\n",
    "\n",
    "# enter the URL you would like to scrape\n",
    "\n",
    "urls = [\n",
    "        #'file:///Users/chenchiungyi/Documents/Koopwoningen%20Amsterdam%20-%20Huizen%20te%20koop%20in%20Amsterdam%20[funda].htm',\n",
    "    \n",
    "        http://www.funda.nl/koop/amsterdam/p'\n",
    "    ]\n",
    "\n",
    "data = []\n",
    "\n",
    "# enter the pagerange you would like to scrape\n",
    "\n",
    "pagerange = range(10, 11)\n",
    "\n",
    "# start scraping\n",
    "\n",
    "for url in urls:\n",
    "    for page in pagerange:\n",
    "        browser.get(url)\n",
    "        # wait for the page to load\n",
    "        wait.until(EC.visibility_of_element_located((By.CSS_SELECTOR, \"div.search-result-content\")))\n",
    "\n",
    "        for item in browser.find_elements_by_css_selector(\"div.search-result-content\"):\n",
    "\n",
    "\n",
    "            try:\n",
    "                zipcode1, zipcode2, city = item.find_element_by_css_selector(\"h4.search-result__header-subtitle\").text.split(\" \", 2)\n",
    "                zipcode = zipcode1 + \" \" + zipcode2\n",
    "\n",
    "                street_zipcode_city = city\n",
    "                #item.find_element_by_css_selector(\"h3.search-result-title\").text\n",
    "\n",
    "                price = item.find_element_by_css_selector(\"span.search-result-price\").text.lstrip('€ ').rstrip(\n",
    "                    ' k.k,').replace('.', '')\n",
    "\n",
    "                surface, rooms = item.find_element_by_css_selector(\"ul.search-result-kenmerken\").text.replace('\\n', '').replace('m²', '').split(\" \", 1)\n",
    "                rooms = rooms.replace('kamer', '').replace('s', '')\n",
    "\n",
    "                link = item.find_element_by_css_selector(\"div.search-result__header-title-col>a\").get_attribute('href')\n",
    "\n",
    "                data.append({\n",
    "                    \"street_zipcode_city\": street_zipcode_city,\n",
    "                    \"zipcode\": zipcode,\n",
    "                    \"city\": city,\n",
    "                    \"price\": price,\n",
    "                    \"surface\": surface,\n",
    "                    \"rooms\": rooms,\n",
    "                    \"link\": link,\n",
    "                })\n",
    "\n",
    "            except ValueError:\n",
    "                pass\n",
    "\n",
    "        time.sleep(randint(10, 15))\n",
    "\n",
    "browser.close()\n",
    "df = pd.DataFrame(data)\n",
    "df.to_csv(\"AmsterdamPage\"+str(min(pagerange))+\"to\"+str(max(pagerange))+\".csv\", sep=';', encoding='utf-8')\n",
    "print(df)"
   ]
  },
  {
   "cell_type": "code",
   "execution_count": 35,
   "metadata": {},
   "outputs": [
    {
     "name": "stdout",
     "output_type": "stream",
     "text": [
      "<selenium.webdriver.remote.webelement.WebElement (session=\"3773b7a5963675845d0365c1c0d14ec9\", element=\"dcb25fdf-6441-4dd6-989d-517a2eaf9606\")>\n"
     ]
    }
   ],
   "source": [
    "print(link)"
   ]
  },
  {
   "cell_type": "code",
   "execution_count": null,
   "metadata": {},
   "outputs": [],
   "source": []
  }
 ],
 "metadata": {
  "kernelspec": {
   "display_name": "Python 3",
   "language": "python",
   "name": "python3"
  },
  "language_info": {
   "codemirror_mode": {
    "name": "ipython",
    "version": 3
   },
   "file_extension": ".py",
   "mimetype": "text/x-python",
   "name": "python",
   "nbconvert_exporter": "python",
   "pygments_lexer": "ipython3",
   "version": "3.7.6"
  }
 },
 "nbformat": 4,
 "nbformat_minor": 4
}
